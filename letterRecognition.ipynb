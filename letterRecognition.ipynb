{
  "nbformat": 4,
  "nbformat_minor": 0,
  "metadata": {
    "kernelspec": {
      "display_name": "Python 3",
      "language": "python",
      "name": "python3"
    },
    "language_info": {
      "codemirror_mode": {
        "name": "ipython",
        "version": 3
      },
      "file_extension": ".py",
      "mimetype": "text/x-python",
      "name": "python",
      "nbconvert_exporter": "python",
      "pygments_lexer": "ipython3",
      "version": "3.6.4"
    },
    "colab": {
      "name": "letterRecognition.ipynb",
      "provenance": [],
      "include_colab_link": true
    }
  },
  "cells": [
    {
      "cell_type": "markdown",
      "metadata": {
        "id": "view-in-github",
        "colab_type": "text"
      },
      "source": [
        "<a href=\"https://colab.research.google.com/github/vniranjan26/letterRecognition/blob/main/letterRecognition.ipynb\" target=\"_parent\"><img src=\"https://colab.research.google.com/assets/colab-badge.svg\" alt=\"Open In Colab\"/></a>"
      ]
    },
    {
      "cell_type": "markdown",
      "metadata": {
        "id": "LtiIwoGpFtGM"
      },
      "source": [
        "**Letter Recognition Using SVM**\n",
        "\n",
        "Let's now tackle a slightly more complex problem - letter recognition. We'll first explore the dataset a bit, prepare it (scale etc.) and then experiment with linear and non-linear SVMs with various hyperparameters.\n",
        "\n",
        "**Data Understanding**\n",
        "\n",
        "Let's first understand the shape, attributes etc. of the dataset.\n"
      ]
    },
    {
      "cell_type": "code",
      "metadata": {
        "_cell_guid": "79c7e3d0-c299-4dcb-8224-4455121ee9b0",
        "_uuid": "d629ff2d2480ee46fbb7e2d37f6b5fab8052498a",
        "id": "AfH74Ml4FtGM"
      },
      "source": [
        "# libraries\n",
        "import pandas as pd\n",
        "import numpy as np\n",
        "from sklearn.svm import SVC\n",
        "from sklearn.model_selection import train_test_split\n",
        "from sklearn import metrics\n",
        "from sklearn.metrics import confusion_matrix\n",
        "from sklearn.model_selection import KFold\n",
        "from sklearn.model_selection import cross_val_score\n",
        "from sklearn.model_selection import GridSearchCV\n",
        "import matplotlib.pyplot as plt\n",
        "import seaborn as sns\n",
        "from sklearn.preprocessing import scale\n",
        "\n",
        "# dataset\n",
        "letters = pd.read_csv(\"https://drive.google.com/uc?export=download&id=1ID5fTwBNiYZ5dPpmC0qMEgCDC83SkayB\")"
      ],
      "execution_count": null,
      "outputs": []
    },
    {
      "cell_type": "code",
      "metadata": {
        "colab": {
          "base_uri": "https://localhost:8080/",
          "height": 649
        },
        "id": "GLqmvzFeFtGN",
        "outputId": "646ebbce-a6f6-4f13-84df-3f9dd3e444fa"
      },
      "source": [
        "# about the dataset\n",
        "print(\"Dimensions: \", letters.shape, \"\\n\")\n",
        "print(letters.info())\n",
        "letters.head()"
      ],
      "execution_count": null,
      "outputs": [
        {
          "output_type": "stream",
          "text": [
            "Dimensions:  (20000, 17) \n",
            "\n",
            "<class 'pandas.core.frame.DataFrame'>\n",
            "RangeIndex: 20000 entries, 0 to 19999\n",
            "Data columns (total 17 columns):\n",
            " #   Column  Non-Null Count  Dtype \n",
            "---  ------  --------------  ----- \n",
            " 0   letter  20000 non-null  object\n",
            " 1   xbox    20000 non-null  int64 \n",
            " 2   ybox    20000 non-null  int64 \n",
            " 3   width   20000 non-null  int64 \n",
            " 4   height  20000 non-null  int64 \n",
            " 5   onpix   20000 non-null  int64 \n",
            " 6   xbar    20000 non-null  int64 \n",
            " 7   ybar    20000 non-null  int64 \n",
            " 8   x2bar   20000 non-null  int64 \n",
            " 9   y2bar   20000 non-null  int64 \n",
            " 10  xybar   20000 non-null  int64 \n",
            " 11  x2ybar  20000 non-null  int64 \n",
            " 12  xy2bar  20000 non-null  int64 \n",
            " 13  xedge   20000 non-null  int64 \n",
            " 14  xedgey  20000 non-null  int64 \n",
            " 15  yedge   20000 non-null  int64 \n",
            " 16  yedgex  20000 non-null  int64 \n",
            "dtypes: int64(16), object(1)\n",
            "memory usage: 2.6+ MB\n",
            "None\n"
          ],
          "name": "stdout"
        },
        {
          "output_type": "execute_result",
          "data": {
            "text/html": [
              "<div>\n",
              "<style scoped>\n",
              "    .dataframe tbody tr th:only-of-type {\n",
              "        vertical-align: middle;\n",
              "    }\n",
              "\n",
              "    .dataframe tbody tr th {\n",
              "        vertical-align: top;\n",
              "    }\n",
              "\n",
              "    .dataframe thead th {\n",
              "        text-align: right;\n",
              "    }\n",
              "</style>\n",
              "<table border=\"1\" class=\"dataframe\">\n",
              "  <thead>\n",
              "    <tr style=\"text-align: right;\">\n",
              "      <th></th>\n",
              "      <th>letter</th>\n",
              "      <th>xbox</th>\n",
              "      <th>ybox</th>\n",
              "      <th>width</th>\n",
              "      <th>height</th>\n",
              "      <th>onpix</th>\n",
              "      <th>xbar</th>\n",
              "      <th>ybar</th>\n",
              "      <th>x2bar</th>\n",
              "      <th>y2bar</th>\n",
              "      <th>xybar</th>\n",
              "      <th>x2ybar</th>\n",
              "      <th>xy2bar</th>\n",
              "      <th>xedge</th>\n",
              "      <th>xedgey</th>\n",
              "      <th>yedge</th>\n",
              "      <th>yedgex</th>\n",
              "    </tr>\n",
              "  </thead>\n",
              "  <tbody>\n",
              "    <tr>\n",
              "      <th>0</th>\n",
              "      <td>T</td>\n",
              "      <td>2</td>\n",
              "      <td>8</td>\n",
              "      <td>3</td>\n",
              "      <td>5</td>\n",
              "      <td>1</td>\n",
              "      <td>8</td>\n",
              "      <td>13</td>\n",
              "      <td>0</td>\n",
              "      <td>6</td>\n",
              "      <td>6</td>\n",
              "      <td>10</td>\n",
              "      <td>8</td>\n",
              "      <td>0</td>\n",
              "      <td>8</td>\n",
              "      <td>0</td>\n",
              "      <td>8</td>\n",
              "    </tr>\n",
              "    <tr>\n",
              "      <th>1</th>\n",
              "      <td>I</td>\n",
              "      <td>5</td>\n",
              "      <td>12</td>\n",
              "      <td>3</td>\n",
              "      <td>7</td>\n",
              "      <td>2</td>\n",
              "      <td>10</td>\n",
              "      <td>5</td>\n",
              "      <td>5</td>\n",
              "      <td>4</td>\n",
              "      <td>13</td>\n",
              "      <td>3</td>\n",
              "      <td>9</td>\n",
              "      <td>2</td>\n",
              "      <td>8</td>\n",
              "      <td>4</td>\n",
              "      <td>10</td>\n",
              "    </tr>\n",
              "    <tr>\n",
              "      <th>2</th>\n",
              "      <td>D</td>\n",
              "      <td>4</td>\n",
              "      <td>11</td>\n",
              "      <td>6</td>\n",
              "      <td>8</td>\n",
              "      <td>6</td>\n",
              "      <td>10</td>\n",
              "      <td>6</td>\n",
              "      <td>2</td>\n",
              "      <td>6</td>\n",
              "      <td>10</td>\n",
              "      <td>3</td>\n",
              "      <td>7</td>\n",
              "      <td>3</td>\n",
              "      <td>7</td>\n",
              "      <td>3</td>\n",
              "      <td>9</td>\n",
              "    </tr>\n",
              "    <tr>\n",
              "      <th>3</th>\n",
              "      <td>N</td>\n",
              "      <td>7</td>\n",
              "      <td>11</td>\n",
              "      <td>6</td>\n",
              "      <td>6</td>\n",
              "      <td>3</td>\n",
              "      <td>5</td>\n",
              "      <td>9</td>\n",
              "      <td>4</td>\n",
              "      <td>6</td>\n",
              "      <td>4</td>\n",
              "      <td>4</td>\n",
              "      <td>10</td>\n",
              "      <td>6</td>\n",
              "      <td>10</td>\n",
              "      <td>2</td>\n",
              "      <td>8</td>\n",
              "    </tr>\n",
              "    <tr>\n",
              "      <th>4</th>\n",
              "      <td>G</td>\n",
              "      <td>2</td>\n",
              "      <td>1</td>\n",
              "      <td>3</td>\n",
              "      <td>1</td>\n",
              "      <td>1</td>\n",
              "      <td>8</td>\n",
              "      <td>6</td>\n",
              "      <td>6</td>\n",
              "      <td>6</td>\n",
              "      <td>6</td>\n",
              "      <td>5</td>\n",
              "      <td>9</td>\n",
              "      <td>1</td>\n",
              "      <td>7</td>\n",
              "      <td>5</td>\n",
              "      <td>10</td>\n",
              "    </tr>\n",
              "  </tbody>\n",
              "</table>\n",
              "</div>"
            ],
            "text/plain": [
              "  letter  xbox   ybox   width   height  ...  xy2bar  xedge   xedgey  yedge   yedgex\n",
              "0      T      2      8       3       5  ...       8       0       8       0       8\n",
              "1      I      5     12       3       7  ...       9       2       8       4      10\n",
              "2      D      4     11       6       8  ...       7       3       7       3       9\n",
              "3      N      7     11       6       6  ...      10       6      10       2       8\n",
              "4      G      2      1       3       1  ...       9       1       7       5      10\n",
              "\n",
              "[5 rows x 17 columns]"
            ]
          },
          "metadata": {
            "tags": []
          },
          "execution_count": 3
        }
      ]
    },
    {
      "cell_type": "code",
      "metadata": {
        "colab": {
          "base_uri": "https://localhost:8080/"
        },
        "id": "8e_jWnduFtGO",
        "outputId": "51963173-7556-470f-8033-3ff4f08965b3"
      },
      "source": [
        "# a quirky bug: the column names have a space, e.g. 'xbox ', which throws and error when indexed\n",
        "print(letters.columns)"
      ],
      "execution_count": null,
      "outputs": [
        {
          "output_type": "stream",
          "text": [
            "Index(['letter', 'xbox ', 'ybox ', 'width ', 'height', 'onpix ', 'xbar ',\n",
            "       'ybar ', 'x2bar', 'y2bar ', 'xybar ', 'x2ybar', 'xy2bar', 'xedge ',\n",
            "       'xedgey', 'yedge ', 'yedgex'],\n",
            "      dtype='object')\n"
          ],
          "name": "stdout"
        }
      ]
    },
    {
      "cell_type": "code",
      "metadata": {
        "colab": {
          "base_uri": "https://localhost:8080/"
        },
        "id": "ZU0gg8k9FtGO",
        "outputId": "dfb745ad-5cc9-4ab9-ac96-c67f253611fa"
      },
      "source": [
        "# let's 'reindex' the column names\n",
        "letters.columns = ['letter', 'xbox', 'ybox', 'width', 'height', 'onpix', 'xbar',\n",
        "       'ybar', 'x2bar', 'y2bar', 'xybar', 'x2ybar', 'xy2bar', 'xedge',\n",
        "       'xedgey', 'yedge', 'yedgex']\n",
        "print(letters.columns)"
      ],
      "execution_count": null,
      "outputs": [
        {
          "output_type": "stream",
          "text": [
            "Index(['letter', 'xbox', 'ybox', 'width', 'height', 'onpix', 'xbar', 'ybar',\n",
            "       'x2bar', 'y2bar', 'xybar', 'x2ybar', 'xy2bar', 'xedge', 'xedgey',\n",
            "       'yedge', 'yedgex'],\n",
            "      dtype='object')\n"
          ],
          "name": "stdout"
        }
      ]
    },
    {
      "cell_type": "code",
      "metadata": {
        "colab": {
          "base_uri": "https://localhost:8080/"
        },
        "id": "M4LU3cwNFtGO",
        "outputId": "b7411468-82ae-4381-d5f5-727605e1bf9a"
      },
      "source": [
        "order = list(np.sort(letters['letter'].unique()))\n",
        "print(order)"
      ],
      "execution_count": null,
      "outputs": [
        {
          "output_type": "stream",
          "text": [
            "['A', 'B', 'C', 'D', 'E', 'F', 'G', 'H', 'I', 'J', 'K', 'L', 'M', 'N', 'O', 'P', 'Q', 'R', 'S', 'T', 'U', 'V', 'W', 'X', 'Y', 'Z']\n"
          ],
          "name": "stdout"
        }
      ]
    },
    {
      "cell_type": "code",
      "metadata": {
        "colab": {
          "base_uri": "https://localhost:8080/",
          "height": 514
        },
        "id": "9FV77sZZFtGP",
        "outputId": "4023d609-2746-482c-cd0d-e3b8bd3a0b44"
      },
      "source": [
        "# basic plots: How do various attributes vary with the letters\n",
        "\n",
        "plt.figure(figsize=(16, 8))\n",
        "sns.barplot(x='letter', y='xbox', \n",
        "            data=letters, \n",
        "            order=order)"
      ],
      "execution_count": null,
      "outputs": [
        {
          "output_type": "execute_result",
          "data": {
            "text/plain": [
              "<matplotlib.axes._subplots.AxesSubplot at 0x7f69e9c28510>"
            ]
          },
          "metadata": {
            "tags": []
          },
          "execution_count": 7
        },
        {
          "output_type": "display_data",
          "data": {
            "image/png": "[encoded data removed]",
            "text/plain": [
              "<Figure size 1152x576 with 1 Axes>"
            ]
          },
          "metadata": {
            "tags": [],
            "needs_background": "light"
          }
        }
      ]
    },
    {
      "cell_type": "code",
      "metadata": {
        "colab": {
          "base_uri": "https://localhost:8080/",
          "height": 225
        },
        "id": "p4d_IEGoFtGP",
        "outputId": "e8d0788d-7205-4366-c437-17f8637eeff9"
      },
      "source": [
        "letter_means = letters.groupby('letter').mean()\n",
        "letter_means.head()"
      ],
      "execution_count": null,
      "outputs": [
        {
          "output_type": "execute_result",
          "data": {
            "text/html": [
              "<div>\n",
              "<style scoped>\n",
              "    .dataframe tbody tr th:only-of-type {\n",
              "        vertical-align: middle;\n",
              "    }\n",
              "\n",
              "    .dataframe tbody tr th {\n",
              "        vertical-align: top;\n",
              "    }\n",
              "\n",
              "    .dataframe thead th {\n",
              "        text-align: right;\n",
              "    }\n",
              "</style>\n",
              "<table border=\"1\" class=\"dataframe\">\n",
              "  <thead>\n",
              "    <tr style=\"text-align: right;\">\n",
              "      <th></th>\n",
              "      <th>xbox</th>\n",
              "      <th>ybox</th>\n",
              "      <th>width</th>\n",
              "      <th>height</th>\n",
              "      <th>onpix</th>\n",
              "      <th>xbar</th>\n",
              "      <th>ybar</th>\n",
              "      <th>x2bar</th>\n",
              "      <th>y2bar</th>\n",
              "      <th>xybar</th>\n",
              "      <th>x2ybar</th>\n",
              "      <th>xy2bar</th>\n",
              "      <th>xedge</th>\n",
              "      <th>xedgey</th>\n",
              "      <th>yedge</th>\n",
              "      <th>yedgex</th>\n",
              "    </tr>\n",
              "    <tr>\n",
              "      <th>letter</th>\n",
              "      <th></th>\n",
              "      <th></th>\n",
              "      <th></th>\n",
              "      <th></th>\n",
              "      <th></th>\n",
              "      <th></th>\n",
              "      <th></th>\n",
              "      <th></th>\n",
              "      <th></th>\n",
              "      <th></th>\n",
              "      <th></th>\n",
              "      <th></th>\n",
              "      <th></th>\n",
              "      <th></th>\n",
              "      <th></th>\n",
              "      <th></th>\n",
              "    </tr>\n",
              "  </thead>\n",
              "  <tbody>\n",
              "    <tr>\n",
              "      <th>A</th>\n",
              "      <td>3.337136</td>\n",
              "      <td>6.975919</td>\n",
              "      <td>5.128010</td>\n",
              "      <td>5.178707</td>\n",
              "      <td>2.991128</td>\n",
              "      <td>8.851711</td>\n",
              "      <td>3.631179</td>\n",
              "      <td>2.755387</td>\n",
              "      <td>2.043093</td>\n",
              "      <td>7.802281</td>\n",
              "      <td>2.338403</td>\n",
              "      <td>8.465146</td>\n",
              "      <td>2.771863</td>\n",
              "      <td>6.321926</td>\n",
              "      <td>2.875792</td>\n",
              "      <td>7.468948</td>\n",
              "    </tr>\n",
              "    <tr>\n",
              "      <th>B</th>\n",
              "      <td>3.985640</td>\n",
              "      <td>6.962141</td>\n",
              "      <td>5.088773</td>\n",
              "      <td>5.169713</td>\n",
              "      <td>4.596606</td>\n",
              "      <td>7.671018</td>\n",
              "      <td>7.062663</td>\n",
              "      <td>5.366841</td>\n",
              "      <td>5.571802</td>\n",
              "      <td>7.954308</td>\n",
              "      <td>5.506527</td>\n",
              "      <td>6.652742</td>\n",
              "      <td>3.117493</td>\n",
              "      <td>7.919060</td>\n",
              "      <td>6.612272</td>\n",
              "      <td>9.100522</td>\n",
              "    </tr>\n",
              "    <tr>\n",
              "      <th>C</th>\n",
              "      <td>4.031250</td>\n",
              "      <td>7.063859</td>\n",
              "      <td>4.701087</td>\n",
              "      <td>5.296196</td>\n",
              "      <td>2.775815</td>\n",
              "      <td>5.437500</td>\n",
              "      <td>7.627717</td>\n",
              "      <td>5.927989</td>\n",
              "      <td>7.177989</td>\n",
              "      <td>8.773098</td>\n",
              "      <td>7.494565</td>\n",
              "      <td>11.947011</td>\n",
              "      <td>1.991848</td>\n",
              "      <td>8.876359</td>\n",
              "      <td>4.080163</td>\n",
              "      <td>8.555707</td>\n",
              "    </tr>\n",
              "    <tr>\n",
              "      <th>D</th>\n",
              "      <td>4.023602</td>\n",
              "      <td>7.244720</td>\n",
              "      <td>5.170186</td>\n",
              "      <td>5.288199</td>\n",
              "      <td>4.026087</td>\n",
              "      <td>7.539130</td>\n",
              "      <td>6.806211</td>\n",
              "      <td>5.921739</td>\n",
              "      <td>6.508075</td>\n",
              "      <td>8.166460</td>\n",
              "      <td>5.111801</td>\n",
              "      <td>5.750311</td>\n",
              "      <td>3.365217</td>\n",
              "      <td>7.813665</td>\n",
              "      <td>3.971429</td>\n",
              "      <td>7.628571</td>\n",
              "    </tr>\n",
              "    <tr>\n",
              "      <th>E</th>\n",
              "      <td>3.727865</td>\n",
              "      <td>6.944010</td>\n",
              "      <td>4.756510</td>\n",
              "      <td>5.201823</td>\n",
              "      <td>3.679688</td>\n",
              "      <td>5.966146</td>\n",
              "      <td>7.352865</td>\n",
              "      <td>4.223958</td>\n",
              "      <td>7.585938</td>\n",
              "      <td>8.507812</td>\n",
              "      <td>6.242188</td>\n",
              "      <td>10.341146</td>\n",
              "      <td>2.127604</td>\n",
              "      <td>8.298177</td>\n",
              "      <td>6.022135</td>\n",
              "      <td>8.506510</td>\n",
              "    </tr>\n",
              "  </tbody>\n",
              "</table>\n",
              "</div>"
            ],
            "text/plain": [
              "            xbox      ybox     width  ...    xedgey     yedge    yedgex\n",
              "letter                                ...                              \n",
              "A       3.337136  6.975919  5.128010  ...  6.321926  2.875792  7.468948\n",
              "B       3.985640  6.962141  5.088773  ...  7.919060  6.612272  9.100522\n",
              "C       4.031250  7.063859  4.701087  ...  8.876359  4.080163  8.555707\n",
              "D       4.023602  7.244720  5.170186  ...  7.813665  3.971429  7.628571\n",
              "E       3.727865  6.944010  4.756510  ...  8.298177  6.022135  8.506510\n",
              "\n",
              "[5 rows x 16 columns]"
            ]
          },
          "metadata": {
            "tags": []
          },
          "execution_count": 8
        }
      ]
    },
    {
      "cell_type": "markdown",
      "metadata": {
        "id": "1ntqC9V3FtGQ"
      },
      "source": [
        "**Data Preparation**\n",
        "\n",
        "Let's conduct some data preparation steps before modeling. Firstly, let's see if it is important to rescale the features, since they may have varying ranges. For example, here are the average values:\n"
      ]
    },
    {
      "cell_type": "code",
      "metadata": {
        "colab": {
          "base_uri": "https://localhost:8080/"
        },
        "id": "_KeBzt0YFtGR",
        "outputId": "34398048-787a-4234-a087-eb026414f1f4"
      },
      "source": [
        "# average feature values\n",
        "round(letters.drop('letter', axis=1).mean(), 2)"
      ],
      "execution_count": null,
      "outputs": [
        {
          "output_type": "execute_result",
          "data": {
            "text/plain": [
              "xbox      4.02\n",
              "ybox      7.04\n",
              "width     5.12\n",
              "height    5.37\n",
              "onpix     3.51\n",
              "xbar      6.90\n",
              "ybar      7.50\n",
              "x2bar     4.63\n",
              "y2bar     5.18\n",
              "xybar     8.28\n",
              "x2ybar    6.45\n",
              "xy2bar    7.93\n",
              "xedge     3.05\n",
              "xedgey    8.34\n",
              "yedge     3.69\n",
              "yedgex    7.80\n",
              "dtype: float64"
            ]
          },
          "metadata": {
            "tags": []
          },
          "execution_count": 9
        }
      ]
    },
    {
      "cell_type": "markdown",
      "metadata": {
        "id": "u09Wz92RFtGR"
      },
      "source": [
        "In this case, the average values do not vary a lot (e.g. having a diff of an order of magnitude). Nevertheless, it is better to rescale them."
      ]
    },
    {
      "cell_type": "code",
      "metadata": {
        "id": "3ZG_1VISFtGR"
      },
      "source": [
        "# splitting into X and y\n",
        "X = letters.drop(\"letter\", axis = 1)\n",
        "y = letters['letter']"
      ],
      "execution_count": null,
      "outputs": []
    },
    {
      "cell_type": "code",
      "metadata": {
        "id": "QzHa81caFtGS"
      },
      "source": [
        "# scaling the features\n",
        "X_scaled = scale(X)\n",
        "\n",
        "# train test split\n",
        "X_train, X_test, y_train, y_test = train_test_split(X_scaled, y, test_size = 0.3, random_state = 101)"
      ],
      "execution_count": null,
      "outputs": []
    },
    {
      "cell_type": "markdown",
      "metadata": {
        "id": "aKYImyo1FtGS"
      },
      "source": [
        "**Model Building**\n",
        "\n",
        "Let's fist build two basic models - linear and non-linear with default hyperparameters, and compare the accuracies.\n"
      ]
    },
    {
      "cell_type": "code",
      "metadata": {
        "id": "5CwvcFO3FtGS"
      },
      "source": [
        "# linear model\n",
        "\n",
        "model_linear = SVC(kernel='linear')\n",
        "model_linear.fit(X_train, y_train)\n",
        "\n",
        "# predict\n",
        "y_pred = model_linear.predict(X_test)"
      ],
      "execution_count": null,
      "outputs": []
    },
    {
      "cell_type": "code",
      "metadata": {
        "colab": {
          "base_uri": "https://localhost:8080/"
        },
        "id": "Nd-GUF4oFtGT",
        "outputId": "010fd413-4115-4a5a-92ad-dc719b8e377b"
      },
      "source": [
        "# confusion matrix and accuracy\n",
        "\n",
        "# accuracy\n",
        "print(\"accuracy:\", metrics.accuracy_score(y_true=y_test, y_pred=y_pred), \"\\n\")\n",
        "\n",
        "# cm\n",
        "print(metrics.confusion_matrix(y_true=y_test, y_pred=y_pred))"
      ],
      "execution_count": null,
      "outputs": [
        {
          "output_type": "stream",
          "text": [
            "accuracy: 0.8523333333333334 \n",
            "\n",
            "[[198   0   0   0   0   0   1   1   0   1   1   1   0   0   0   0   0   1\n",
            "    0   1   1   0   0   0   3   0]\n",
            " [  0 188   0   3   0   1   3   3   1   0   1   0   0   2   0   1   1   9\n",
            "    3   0   0   1   0   1   0   0]\n",
            " [  1   0 200   0   7   0  12   1   0   0   5   0   0   0   3   0   0   0\n",
            "    0   0   1   0   0   0   0   0]\n",
            " [  1  15   0 210   0   1   2   2   1   0   1   0   1   5   3   0   0   5\n",
            "    0   1   0   0   0   0   0   0]\n",
            " [  0   1   3   0 204   2   6   1   0   0   1   5   0   0   0   0   2   2\n",
            "    1   2   0   0   0   1   0   3]\n",
            " [  0   0   0   1   1 201   1   2   1   1   0   0   0   2   0   2   0   0\n",
            "    3   7   1   0   1   0   1   0]\n",
            " [  0   1   9   4   2   2 167   1   0   1   4   3   1   0   1   0   9   1\n",
            "    8   0   0   2   3   0   0   0]\n",
            " [  0   7   3  11   0   4   3 141   0   2   4   1   2   0  12   0   4  12\n",
            "    0   0   4   2   0   4   1   0]\n",
            " [  0   0   2   3   0   6   0   0 184   9   0   0   0   0   1   0   0   0\n",
            "    3   0   0   0   0   4   0   3]\n",
            " [  2   0   0   3   0   2   0   2  10 187   0   0   0   1   2   0   0   1\n",
            "    5   0   1   0   0   0   0   4]\n",
            " [  0   1   5   2   0   0   1   3   0   0 198   2   2   0   0   0   0  19\n",
            "    0   0   0   0   0  12   0   0]\n",
            " [  2   1   3   2   5   0   8   1   0   0   1 206   0   0   0   0   5   0\n",
            "    2   1   0   0   0   0   0   0]\n",
            " [  0   3   0   0   0   0   0   3   0   0   0   0 222   1   0   0   0   2\n",
            "    0   0   0   0   3   0   0   0]\n",
            " [  1   0   0   4   0   0   0   6   0   0   0   0   1 235   1   1   0   0\n",
            "    0   0   0   1   1   0   0   0]\n",
            " [  3   0   4   7   0   0   0  21   0   0   0   0   2   0 163   3   2   3\n",
            "    0   0   3   0  10   0   0   0]\n",
            " [  0   2   0   2   0  16   5   1   0   1   3   0   0   0   1 225   0   0\n",
            "    0   0   0   1   0   0   8   0]\n",
            " [  3   1   0   0   4   0   9   0   0   2   0   1   0   0   6   0 198   0\n",
            "    8   0   0   0   1   0   0   2]\n",
            " [ 11  11   0   2   0   1   6   3   0   0  10   0   0   3   4   0   2 188\n",
            "    0   1   0   0   0   1   0   0]\n",
            " [  1  13   0   0   9   5   8   0   7   1   0   2   0   0   0   1   6   1\n",
            "  155   6   0   0   0   3   0  10]\n",
            " [  0   0   0   1   1   4   2   4   1   0   0   0   0   0   0   0   0   1\n",
            "    3 214   0   0   0   1   1   6]\n",
            " [  2   0   1   2   0   0   0   2   0   0   0   0   1   1   3   0   0   0\n",
            "    0   0 211   0   1   0   0   0]\n",
            " [  2   2   0   0   0   0   1   3   0   0   0   0   0   1   0   1   0   3\n",
            "    0   0   0 190   6   0   2   0]\n",
            " [  0   0   0   0   0   0   1   0   0   0   0   0   6   1   2   0   0   0\n",
            "    0   0   0   0 212   0   0   0]\n",
            " [  0   2   0   4   5   0   1   0   2   3   3   3   0   0   1   0   0   1\n",
            "    2   2   1   0   0 212   1   1]\n",
            " [  2   0   0   0   0   2   0   1   0   0   0   0   1   0   0   0   3   0\n",
            "    0   4   1  10   0   2 211   0]\n",
            " [  1   0   0   0   3   0   0   0   0   6   0   0   0   0   0   0   5   0\n",
            "   18   1   0   0   0   1   0 194]]\n"
          ],
          "name": "stdout"
        }
      ]
    },
    {
      "cell_type": "markdown",
      "metadata": {
        "id": "KG2lvhSoFtGT"
      },
      "source": [
        "The linear model gives approx. 85% accuracy. Let's look at a sufficiently non-linear model with randomly chosen hyperparameters."
      ]
    },
    {
      "cell_type": "code",
      "metadata": {
        "id": "lk9jeRckFtGT"
      },
      "source": [
        "# non-linear model\n",
        "# using rbf kernel, C=1, default value of gamma\n",
        "\n",
        "# model\n",
        "non_linear_model = SVC(kernel='rbf')\n",
        "\n",
        "# fit\n",
        "non_linear_model.fit(X_train, y_train)\n",
        "\n",
        "# predict\n",
        "y_pred = non_linear_model.predict(X_test)"
      ],
      "execution_count": null,
      "outputs": []
    },
    {
      "cell_type": "code",
      "metadata": {
        "colab": {
          "base_uri": "https://localhost:8080/"
        },
        "id": "apxTv9QhFtGU",
        "outputId": "1c860c98-397c-46b7-c7dc-716ec51fc714"
      },
      "source": [
        "# confusion matrix and accuracy\n",
        "\n",
        "# accuracy\n",
        "print(\"accuracy:\", metrics.accuracy_score(y_true=y_test, y_pred=y_pred), \"\\n\")\n",
        "\n",
        "# cm\n",
        "print(metrics.confusion_matrix(y_true=y_test, y_pred=y_pred))"
      ],
      "execution_count": null,
      "outputs": [
        {
          "output_type": "stream",
          "text": [
            "accuracy: 0.9383333333333334 \n",
            "\n",
            "[[205   0   0   1   0   0   0   0   0   1   0   0   0   0   0   0   0   0\n",
            "    0   0   0   0   0   0   2   0]\n",
            " [  0 205   0   3   1   0   1   0   0   0   0   0   0   0   0   0   0   6\n",
            "    1   0   0   0   0   1   0   0]\n",
            " [  0   0 213   0   5   0   7   1   0   0   0   0   0   0   4   0   0   0\n",
            "    0   0   0   0   0   0   0   0]\n",
            " [  0   4   0 234   0   0   1   3   0   0   0   0   0   3   1   0   0   2\n",
            "    0   0   0   0   0   0   0   0]\n",
            " [  0   0   0   0 221   1   9   0   0   0   0   0   0   0   0   0   0   1\n",
            "    0   0   0   0   0   0   0   2]\n",
            " [  0   0   0   1   0 215   1   1   1   0   0   0   0   1   0   1   0   0\n",
            "    1   3   0   0   0   0   0   0]\n",
            " [  0   0   3   4   1   1 202   0   0   0   0   1   1   0   2   0   0   1\n",
            "    0   0   0   1   2   0   0   0]\n",
            " [  0   7   0   5   0   0   4 177   0   0   2   0   1   0   3   0   4  13\n",
            "    0   0   1   0   0   0   0   0]\n",
            " [  0   0   1   1   0   3   0   0 194  11   0   0   0   0   0   1   0   0\n",
            "    2   0   0   0   0   2   0   0]\n",
            " [  1   0   0   1   0   0   0   0   6 206   0   0   0   1   2   0   0   0\n",
            "    2   0   0   0   0   1   0   0]\n",
            " [  0   4   0   2   0   0   0   4   0   0 217   0   1   0   0   0   0  14\n",
            "    0   0   0   0   0   3   0   0]\n",
            " [  0   0   1   0   2   0   6   0   0   0   1 222   0   0   0   0   0   3\n",
            "    0   0   0   0   0   2   0   0]\n",
            " [  0   5   0   0   0   0   0   2   0   0   0   0 225   0   0   0   0   0\n",
            "    0   0   0   0   2   0   0   0]\n",
            " [  0   2   0   1   0   0   0   2   0   0   0   0   1 239   3   0   0   2\n",
            "    0   0   0   0   0   0   1   0]\n",
            " [  0   0   0   1   0   0   0   0   0   0   0   0   0   0 209   0   1   1\n",
            "    0   0   1   0   8   0   0   0]\n",
            " [  0   2   0   3   3  11   1   1   0   0   0   0   0   0   1 237   1   0\n",
            "    0   0   0   0   0   0   5   0]\n",
            " [  0   0   0   0   2   0   2   0   0   0   0   0   0   0   6   0 222   0\n",
            "    1   0   0   0   2   0   0   0]\n",
            " [  0  10   0   2   0   0   0   0   0   0   1   0   0   4   0   0   2 224\n",
            "    0   0   0   0   0   0   0   0]\n",
            " [  0   3   0   0   2   3   0   0   0   0   0   0   0   0   0   0   0   0\n",
            "  220   0   0   0   0   0   0   0]\n",
            " [  0   0   0   1   0   2   0   2   0   0   0   0   0   0   0   1   0   1\n",
            "    0 228   0   0   0   3   1   0]\n",
            " [  0   0   0   0   0   0   0   0   0   0   0   0   0   1   1   0   0   0\n",
            "    0   0 222   0   0   0   0   0]\n",
            " [  0   7   0   0   0   0   0   1   0   0   0   0   1   4   0   1   0   0\n",
            "    0   0   0 193   1   0   3   0]\n",
            " [  0   1   0   0   0   0   1   1   0   0   0   0   0   1   0   0   0   0\n",
            "    0   0   1   0 217   0   0   0]\n",
            " [  0   2   0   3   2   0   0   0   1   0   2   0   0   0   0   0   0   1\n",
            "    0   0   0   0   0 233   0   0]\n",
            " [  2   0   0   0   0   0   0   0   0   0   0   0   1   0   0   0   1   0\n",
            "    0   1   2   2   0   0 228   0]\n",
            " [  0   0   0   0   2   0   0   0   0   0   0   0   0   0   0   0   4   0\n",
            "    1   0   0   0   0   0   0 222]]\n"
          ],
          "name": "stdout"
        }
      ]
    },
    {
      "cell_type": "markdown",
      "metadata": {
        "id": "FeRwtoTxFtGU"
      },
      "source": [
        "\n",
        "\n",
        "\n",
        "The non-linear model gives approx. 93% accuracy. Thus, going forward, let's choose hyperparameters corresponding to non-linear models.\n",
        "\n",
        "\n",
        "\n",
        "\n",
        "**Grid Search: Hyperparameter Tuning**\n",
        "\n",
        "Let's now tune the model to find the optimal values of C and gamma corresponding to an RBF kernel. We'll use 5-fold cross validation.\n"
      ]
    },
    {
      "cell_type": "code",
      "metadata": {
        "colab": {
          "base_uri": "https://localhost:8080/"
        },
        "id": "T8vKC2DnFtGU",
        "outputId": "a2d39f5f-364e-48a1-a67a-68875bbda264"
      },
      "source": [
        "# creating a KFold object with 5 splits \n",
        "folds = KFold(n_splits = 5, shuffle = True, random_state = 101)\n",
        "\n",
        "# specify range of hyperparameters\n",
        "# Set the parameters by cross-validation\n",
        "hyper_params = [ {'gamma': [1e-2, 1e-3, 1e-4],\n",
        "                     'C': [1, 10, 100, 1000]}]\n",
        "\n",
        "\n",
        "# specify model\n",
        "model = SVC(kernel=\"rbf\")\n",
        "\n",
        "# set up GridSearchCV()\n",
        "model_cv = GridSearchCV(estimator = model, \n",
        "                        param_grid = hyper_params, \n",
        "                        scoring= 'accuracy', \n",
        "                        cv = folds, \n",
        "                        verbose = 1,\n",
        "                        return_train_score=True)      \n",
        "\n",
        "# fit the model\n",
        "model_cv.fit(X_train, y_train)                 \n"
      ],
      "execution_count": 16,
      "outputs": [
        {
          "output_type": "stream",
          "text": [
            "Fitting 5 folds for each of 12 candidates, totalling 60 fits\n"
          ],
          "name": "stdout"
        },
        {
          "output_type": "stream",
          "text": [
            "[Parallel(n_jobs=1)]: Using backend SequentialBackend with 1 concurrent workers.\n",
            "[Parallel(n_jobs=1)]: Done  60 out of  60 | elapsed: 12.5min finished\n"
          ],
          "name": "stderr"
        },
        {
          "output_type": "execute_result",
          "data": {
            "text/plain": [
              "GridSearchCV(cv=KFold(n_splits=5, random_state=101, shuffle=True),\n",
              "             error_score=nan,\n",
              "             estimator=SVC(C=1.0, break_ties=False, cache_size=200,\n",
              "                           class_weight=None, coef0=0.0,\n",
              "                           decision_function_shape='ovr', degree=3,\n",
              "                           gamma='scale', kernel='rbf', max_iter=-1,\n",
              "                           probability=False, random_state=None, shrinking=True,\n",
              "                           tol=0.001, verbose=False),\n",
              "             iid='deprecated', n_jobs=None,\n",
              "             param_grid=[{'C': [1, 10, 100, 1000],\n",
              "                          'gamma': [0.01, 0.001, 0.0001]}],\n",
              "             pre_dispatch='2*n_jobs', refit=True, return_train_score=True,\n",
              "             scoring='accuracy', verbose=1)"
            ]
          },
          "metadata": {
            "tags": []
          },
          "execution_count": 0
        }
      ]
    },
    {
      "cell_type": "code",
      "metadata": {
        "id": "NOKM-SUOFtGV",
        "colab": {
          "base_uri": "https://localhost:8080/",
          "height": 876
        },
        "outputId": "3f1f8947-ea9e-4519-8b3c-df3646895b97"
      },
      "source": [
        "# cv results\n",
        "cv_results = pd.DataFrame(model_cv.cv_results_)\n",
        "cv_results"
      ],
      "execution_count": 17,
      "outputs": [
        {
          "output_type": "execute_result",
          "data": {
            "text/html": [
              "<div>\n",
              "<style scoped>\n",
              "    .dataframe tbody tr th:only-of-type {\n",
              "        vertical-align: middle;\n",
              "    }\n",
              "\n",
              "    .dataframe tbody tr th {\n",
              "        vertical-align: top;\n",
              "    }\n",
              "\n",
              "    .dataframe thead th {\n",
              "        text-align: right;\n",
              "    }\n",
              "</style>\n",
              "<table border=\"1\" class=\"dataframe\">\n",
              "  <thead>\n",
              "    <tr style=\"text-align: right;\">\n",
              "      <th></th>\n",
              "      <th>mean_fit_time</th>\n",
              "      <th>std_fit_time</th>\n",
              "      <th>mean_score_time</th>\n",
              "      <th>std_score_time</th>\n",
              "      <th>param_C</th>\n",
              "      <th>param_gamma</th>\n",
              "      <th>params</th>\n",
              "      <th>split0_test_score</th>\n",
              "      <th>split1_test_score</th>\n",
              "      <th>split2_test_score</th>\n",
              "      <th>split3_test_score</th>\n",
              "      <th>split4_test_score</th>\n",
              "      <th>mean_test_score</th>\n",
              "      <th>std_test_score</th>\n",
              "      <th>rank_test_score</th>\n",
              "      <th>split0_train_score</th>\n",
              "      <th>split1_train_score</th>\n",
              "      <th>split2_train_score</th>\n",
              "      <th>split3_train_score</th>\n",
              "      <th>split4_train_score</th>\n",
              "      <th>mean_train_score</th>\n",
              "      <th>std_train_score</th>\n",
              "    </tr>\n",
              "  </thead>\n",
              "  <tbody>\n",
              "    <tr>\n",
              "      <th>0</th>\n",
              "      <td>3.243010</td>\n",
              "      <td>0.030613</td>\n",
              "      <td>1.908364</td>\n",
              "      <td>0.010046</td>\n",
              "      <td>1</td>\n",
              "      <td>0.01</td>\n",
              "      <td>{'C': 1, 'gamma': 0.01}</td>\n",
              "      <td>0.826429</td>\n",
              "      <td>0.834643</td>\n",
              "      <td>0.828571</td>\n",
              "      <td>0.843929</td>\n",
              "      <td>0.830000</td>\n",
              "      <td>0.832714</td>\n",
              "      <td>0.006221</td>\n",
              "      <td>7</td>\n",
              "      <td>0.843929</td>\n",
              "      <td>0.844196</td>\n",
              "      <td>0.847679</td>\n",
              "      <td>0.843571</td>\n",
              "      <td>0.844018</td>\n",
              "      <td>0.844679</td>\n",
              "      <td>0.001514</td>\n",
              "    </tr>\n",
              "    <tr>\n",
              "      <th>1</th>\n",
              "      <td>6.956247</td>\n",
              "      <td>0.025861</td>\n",
              "      <td>2.420167</td>\n",
              "      <td>0.017867</td>\n",
              "      <td>1</td>\n",
              "      <td>0.001</td>\n",
              "      <td>{'C': 1, 'gamma': 0.001}</td>\n",
              "      <td>0.684643</td>\n",
              "      <td>0.672500</td>\n",
              "      <td>0.682500</td>\n",
              "      <td>0.670000</td>\n",
              "      <td>0.676429</td>\n",
              "      <td>0.677214</td>\n",
              "      <td>0.005622</td>\n",
              "      <td>10</td>\n",
              "      <td>0.682054</td>\n",
              "      <td>0.683125</td>\n",
              "      <td>0.687946</td>\n",
              "      <td>0.679554</td>\n",
              "      <td>0.686429</td>\n",
              "      <td>0.683821</td>\n",
              "      <td>0.003021</td>\n",
              "    </tr>\n",
              "    <tr>\n",
              "      <th>2</th>\n",
              "      <td>13.305867</td>\n",
              "      <td>0.040201</td>\n",
              "      <td>2.542816</td>\n",
              "      <td>0.017404</td>\n",
              "      <td>1</td>\n",
              "      <td>0.0001</td>\n",
              "      <td>{'C': 1, 'gamma': 0.0001}</td>\n",
              "      <td>0.203929</td>\n",
              "      <td>0.207143</td>\n",
              "      <td>0.206429</td>\n",
              "      <td>0.237500</td>\n",
              "      <td>0.232857</td>\n",
              "      <td>0.217571</td>\n",
              "      <td>0.014490</td>\n",
              "      <td>12</td>\n",
              "      <td>0.212679</td>\n",
              "      <td>0.217589</td>\n",
              "      <td>0.228393</td>\n",
              "      <td>0.240625</td>\n",
              "      <td>0.240625</td>\n",
              "      <td>0.227982</td>\n",
              "      <td>0.011507</td>\n",
              "    </tr>\n",
              "    <tr>\n",
              "      <th>3</th>\n",
              "      <td>1.951125</td>\n",
              "      <td>0.008961</td>\n",
              "      <td>1.301674</td>\n",
              "      <td>0.008930</td>\n",
              "      <td>10</td>\n",
              "      <td>0.01</td>\n",
              "      <td>{'C': 10, 'gamma': 0.01}</td>\n",
              "      <td>0.914643</td>\n",
              "      <td>0.908571</td>\n",
              "      <td>0.902500</td>\n",
              "      <td>0.919286</td>\n",
              "      <td>0.911071</td>\n",
              "      <td>0.911214</td>\n",
              "      <td>0.005654</td>\n",
              "      <td>3</td>\n",
              "      <td>0.929643</td>\n",
              "      <td>0.929464</td>\n",
              "      <td>0.930357</td>\n",
              "      <td>0.928929</td>\n",
              "      <td>0.928125</td>\n",
              "      <td>0.929304</td>\n",
              "      <td>0.000746</td>\n",
              "    </tr>\n",
              "    <tr>\n",
              "      <th>4</th>\n",
              "      <td>3.206310</td>\n",
              "      <td>0.020393</td>\n",
              "      <td>1.921114</td>\n",
              "      <td>0.006332</td>\n",
              "      <td>10</td>\n",
              "      <td>0.001</td>\n",
              "      <td>{'C': 10, 'gamma': 0.001}</td>\n",
              "      <td>0.805714</td>\n",
              "      <td>0.809643</td>\n",
              "      <td>0.803571</td>\n",
              "      <td>0.820714</td>\n",
              "      <td>0.805000</td>\n",
              "      <td>0.808929</td>\n",
              "      <td>0.006227</td>\n",
              "      <td>8</td>\n",
              "      <td>0.818125</td>\n",
              "      <td>0.817679</td>\n",
              "      <td>0.819643</td>\n",
              "      <td>0.814375</td>\n",
              "      <td>0.819464</td>\n",
              "      <td>0.817857</td>\n",
              "      <td>0.001897</td>\n",
              "    </tr>\n",
              "    <tr>\n",
              "      <th>5</th>\n",
              "      <td>6.900583</td>\n",
              "      <td>0.023389</td>\n",
              "      <td>2.409887</td>\n",
              "      <td>0.010026</td>\n",
              "      <td>10</td>\n",
              "      <td>0.0001</td>\n",
              "      <td>{'C': 10, 'gamma': 0.0001}</td>\n",
              "      <td>0.684286</td>\n",
              "      <td>0.671071</td>\n",
              "      <td>0.682500</td>\n",
              "      <td>0.670000</td>\n",
              "      <td>0.677143</td>\n",
              "      <td>0.677000</td>\n",
              "      <td>0.005788</td>\n",
              "      <td>11</td>\n",
              "      <td>0.681875</td>\n",
              "      <td>0.683304</td>\n",
              "      <td>0.687500</td>\n",
              "      <td>0.680089</td>\n",
              "      <td>0.685446</td>\n",
              "      <td>0.683643</td>\n",
              "      <td>0.002608</td>\n",
              "    </tr>\n",
              "    <tr>\n",
              "      <th>6</th>\n",
              "      <td>2.075070</td>\n",
              "      <td>0.012596</td>\n",
              "      <td>0.953720</td>\n",
              "      <td>0.005882</td>\n",
              "      <td>100</td>\n",
              "      <td>0.01</td>\n",
              "      <td>{'C': 100, 'gamma': 0.01}</td>\n",
              "      <td>0.948571</td>\n",
              "      <td>0.946786</td>\n",
              "      <td>0.941429</td>\n",
              "      <td>0.952857</td>\n",
              "      <td>0.949286</td>\n",
              "      <td>0.947786</td>\n",
              "      <td>0.003742</td>\n",
              "      <td>2</td>\n",
              "      <td>0.978482</td>\n",
              "      <td>0.977946</td>\n",
              "      <td>0.978393</td>\n",
              "      <td>0.978661</td>\n",
              "      <td>0.978571</td>\n",
              "      <td>0.978411</td>\n",
              "      <td>0.000249</td>\n",
              "    </tr>\n",
              "    <tr>\n",
              "      <th>7</th>\n",
              "      <td>2.215801</td>\n",
              "      <td>0.015639</td>\n",
              "      <td>1.375643</td>\n",
              "      <td>0.005296</td>\n",
              "      <td>100</td>\n",
              "      <td>0.001</td>\n",
              "      <td>{'C': 100, 'gamma': 0.001}</td>\n",
              "      <td>0.861071</td>\n",
              "      <td>0.866071</td>\n",
              "      <td>0.850357</td>\n",
              "      <td>0.875357</td>\n",
              "      <td>0.863929</td>\n",
              "      <td>0.863357</td>\n",
              "      <td>0.008074</td>\n",
              "      <td>5</td>\n",
              "      <td>0.879554</td>\n",
              "      <td>0.877143</td>\n",
              "      <td>0.882143</td>\n",
              "      <td>0.875536</td>\n",
              "      <td>0.879464</td>\n",
              "      <td>0.878768</td>\n",
              "      <td>0.002262</td>\n",
              "    </tr>\n",
              "    <tr>\n",
              "      <th>8</th>\n",
              "      <td>3.249056</td>\n",
              "      <td>0.024060</td>\n",
              "      <td>1.924925</td>\n",
              "      <td>0.004249</td>\n",
              "      <td>100</td>\n",
              "      <td>0.0001</td>\n",
              "      <td>{'C': 100, 'gamma': 0.0001}</td>\n",
              "      <td>0.801071</td>\n",
              "      <td>0.806429</td>\n",
              "      <td>0.803929</td>\n",
              "      <td>0.817143</td>\n",
              "      <td>0.800000</td>\n",
              "      <td>0.805714</td>\n",
              "      <td>0.006140</td>\n",
              "      <td>9</td>\n",
              "      <td>0.813571</td>\n",
              "      <td>0.812679</td>\n",
              "      <td>0.814286</td>\n",
              "      <td>0.810000</td>\n",
              "      <td>0.815357</td>\n",
              "      <td>0.813179</td>\n",
              "      <td>0.001815</td>\n",
              "    </tr>\n",
              "    <tr>\n",
              "      <th>9</th>\n",
              "      <td>2.303493</td>\n",
              "      <td>0.014551</td>\n",
              "      <td>0.873050</td>\n",
              "      <td>0.008958</td>\n",
              "      <td>1000</td>\n",
              "      <td>0.01</td>\n",
              "      <td>{'C': 1000, 'gamma': 0.01}</td>\n",
              "      <td>0.953571</td>\n",
              "      <td>0.949643</td>\n",
              "      <td>0.948571</td>\n",
              "      <td>0.952857</td>\n",
              "      <td>0.953929</td>\n",
              "      <td>0.951714</td>\n",
              "      <td>0.002183</td>\n",
              "      <td>1</td>\n",
              "      <td>0.997054</td>\n",
              "      <td>0.997768</td>\n",
              "      <td>0.997411</td>\n",
              "      <td>0.997321</td>\n",
              "      <td>0.997232</td>\n",
              "      <td>0.997357</td>\n",
              "      <td>0.000237</td>\n",
              "    </tr>\n",
              "    <tr>\n",
              "      <th>10</th>\n",
              "      <td>2.543926</td>\n",
              "      <td>0.034487</td>\n",
              "      <td>1.033447</td>\n",
              "      <td>0.006694</td>\n",
              "      <td>1000</td>\n",
              "      <td>0.001</td>\n",
              "      <td>{'C': 1000, 'gamma': 0.001}</td>\n",
              "      <td>0.897500</td>\n",
              "      <td>0.895714</td>\n",
              "      <td>0.889643</td>\n",
              "      <td>0.908571</td>\n",
              "      <td>0.900357</td>\n",
              "      <td>0.898357</td>\n",
              "      <td>0.006197</td>\n",
              "      <td>4</td>\n",
              "      <td>0.931339</td>\n",
              "      <td>0.927679</td>\n",
              "      <td>0.931607</td>\n",
              "      <td>0.927589</td>\n",
              "      <td>0.931696</td>\n",
              "      <td>0.929982</td>\n",
              "      <td>0.001921</td>\n",
              "    </tr>\n",
              "    <tr>\n",
              "      <th>11</th>\n",
              "      <td>2.378314</td>\n",
              "      <td>0.020032</td>\n",
              "      <td>1.388305</td>\n",
              "      <td>0.008717</td>\n",
              "      <td>1000</td>\n",
              "      <td>0.0001</td>\n",
              "      <td>{'C': 1000, 'gamma': 0.0001}</td>\n",
              "      <td>0.844643</td>\n",
              "      <td>0.848214</td>\n",
              "      <td>0.829286</td>\n",
              "      <td>0.856071</td>\n",
              "      <td>0.843571</td>\n",
              "      <td>0.844357</td>\n",
              "      <td>0.008717</td>\n",
              "      <td>6</td>\n",
              "      <td>0.860982</td>\n",
              "      <td>0.858482</td>\n",
              "      <td>0.864018</td>\n",
              "      <td>0.858304</td>\n",
              "      <td>0.861607</td>\n",
              "      <td>0.860679</td>\n",
              "      <td>0.002125</td>\n",
              "    </tr>\n",
              "  </tbody>\n",
              "</table>\n",
              "</div>"
            ],
            "text/plain": [
              "    mean_fit_time  std_fit_time  ...  mean_train_score  std_train_score\n",
              "0        3.243010      0.030613  ...          0.844679         0.001514\n",
              "1        6.956247      0.025861  ...          0.683821         0.003021\n",
              "2       13.305867      0.040201  ...          0.227982         0.011507\n",
              "3        1.951125      0.008961  ...          0.929304         0.000746\n",
              "4        3.206310      0.020393  ...          0.817857         0.001897\n",
              "5        6.900583      0.023389  ...          0.683643         0.002608\n",
              "6        2.075070      0.012596  ...          0.978411         0.000249\n",
              "7        2.215801      0.015639  ...          0.878768         0.002262\n",
              "8        3.249056      0.024060  ...          0.813179         0.001815\n",
              "9        2.303493      0.014551  ...          0.997357         0.000237\n",
              "10       2.543926      0.034487  ...          0.929982         0.001921\n",
              "11       2.378314      0.020032  ...          0.860679         0.002125\n",
              "\n",
              "[12 rows x 22 columns]"
            ]
          },
          "metadata": {
            "tags": []
          },
          "execution_count": 0
        }
      ]
    },
    {
      "cell_type": "code",
      "metadata": {
        "id": "pb7s_FBoFtGW",
        "colab": {
          "base_uri": "https://localhost:8080/",
          "height": 408
        },
        "outputId": "32b321b0-5638-46dc-8910-6a117dcb8322"
      },
      "source": [
        "# converting C to numeric type for plotting on x-axis\n",
        "cv_results['param_C'] = cv_results['param_C'].astype('int')\n",
        "\n",
        "# # plotting\n",
        "plt.figure(figsize=(16,6))\n",
        "\n",
        "# subplot 1/3\n",
        "plt.subplot(131)\n",
        "gamma_01 = cv_results[cv_results['param_gamma']==0.01]\n",
        "\n",
        "plt.plot(gamma_01[\"param_C\"], gamma_01[\"mean_test_score\"])\n",
        "plt.plot(gamma_01[\"param_C\"], gamma_01[\"mean_train_score\"])\n",
        "plt.xlabel('C')\n",
        "plt.ylabel('Accuracy')\n",
        "plt.title(\"Gamma=0.01\")\n",
        "plt.ylim([0.60, 1])\n",
        "plt.legend(['test accuracy', 'train accuracy'], loc='upper left')\n",
        "plt.xscale('log')\n",
        "\n",
        "# subplot 2/3\n",
        "plt.subplot(132)\n",
        "gamma_001 = cv_results[cv_results['param_gamma']==0.001]\n",
        "\n",
        "plt.plot(gamma_001[\"param_C\"], gamma_001[\"mean_test_score\"])\n",
        "plt.plot(gamma_001[\"param_C\"], gamma_001[\"mean_train_score\"])\n",
        "plt.xlabel('C')\n",
        "plt.ylabel('Accuracy')\n",
        "plt.title(\"Gamma=0.001\")\n",
        "plt.ylim([0.60, 1])\n",
        "plt.legend(['test accuracy', 'train accuracy'], loc='upper left')\n",
        "plt.xscale('log')\n",
        "\n",
        "\n",
        "# subplot 3/3\n",
        "plt.subplot(133)\n",
        "gamma_0001 = cv_results[cv_results['param_gamma']==0.0001]\n",
        "\n",
        "plt.plot(gamma_0001[\"param_C\"], gamma_0001[\"mean_test_score\"])\n",
        "plt.plot(gamma_0001[\"param_C\"], gamma_0001[\"mean_train_score\"])\n",
        "plt.xlabel('C')\n",
        "plt.ylabel('Accuracy')\n",
        "plt.title(\"Gamma=0.0001\")\n",
        "plt.ylim([0.60, 1])\n",
        "plt.legend(['test accuracy', 'train accuracy'], loc='upper left')\n",
        "plt.xscale('log')\n"
      ],
      "execution_count": 18,
      "outputs": [
        {
          "output_type": "display_data",
          "data": {
            "image/png": "[encoded data removed]",
            "text/plain": [
              "<Figure size 1152x432 with 3 Axes>"
            ]
          },
          "metadata": {
            "tags": []
          }
        }
      ]
    },
    {
      "cell_type": "markdown",
      "metadata": {
        "id": "_0ENORk5FtGX"
      },
      "source": [
        "\n",
        "\n",
        "\n",
        "The plots above show some useful insights:\n",
        "•Non-linear models (high gamma) perform much better than the linear ones\n",
        "•At any value of gamma, a high value of C leads to better performance\n",
        "•None of the models tend to overfit (even the complex ones), since the training and test accuracies closely follow each other\n",
        "\n",
        "This suggests that the problem and the data is inherently non-linear in nature, and a complex model will outperform simple, linear models in this case.\n",
        "\n",
        "\n",
        "\n",
        "\n",
        "Let's now choose the best hyperparameters. \n"
      ]
    },
    {
      "cell_type": "code",
      "metadata": {
        "id": "q9AzEBE-FtGX",
        "colab": {
          "base_uri": "https://localhost:8080/"
        },
        "outputId": "da0a36a8-b22e-4846-fac8-ddb0be90019b"
      },
      "source": [
        "# printing the optimal accuracy score and hyperparameters\n",
        "best_score = model_cv.best_score_\n",
        "best_hyperparams = model_cv.best_params_\n",
        "\n",
        "print(\"The best test score is {0} corresponding to hyperparameters {1}\".format(best_score, best_hyperparams))"
      ],
      "execution_count": 19,
      "outputs": [
        {
          "output_type": "stream",
          "text": [
            "The best test score is 0.9517142857142857 corresponding to hyperparameters {'C': 1000, 'gamma': 0.01}\n"
          ],
          "name": "stdout"
        }
      ]
    },
    {
      "cell_type": "markdown",
      "metadata": {
        "id": "JluIbXujFtGX"
      },
      "source": [
        "\n",
        "\n",
        "\n",
        "\n",
        "\n",
        "\n",
        "\n",
        "\n",
        "\n",
        "\n",
        "\n",
        "\n",
        "\n",
        "\n",
        "\n",
        "\n",
        "\n",
        "\n",
        "\n",
        "\n",
        "\n",
        "\n",
        "\n",
        "\n",
        "\n",
        "\n",
        "\n",
        "\n",
        "\n",
        "\n",
        "\n",
        "\n",
        "\n",
        "Building and Evaluating the Final Model\n",
        "\n",
        "Let's now build and evaluate the final model, i.e. the model with highest test accuracy.\n"
      ]
    },
    {
      "cell_type": "code",
      "metadata": {
        "id": "TVeftKe3FtGX",
        "colab": {
          "base_uri": "https://localhost:8080/"
        },
        "outputId": "b41d84db-7dba-4539-963a-47f43df911da"
      },
      "source": [
        "# model with optimal hyperparameters\n",
        "\n",
        "# model\n",
        "model = SVC(C=1000, gamma=0.01, kernel=\"rbf\")\n",
        "\n",
        "model.fit(X_train, y_train)\n",
        "y_pred = model.predict(X_test)\n",
        "\n",
        "# metrics\n",
        "print(\"accuracy\", metrics.accuracy_score(y_test, y_pred), \"\\n\")\n",
        "print(metrics.confusion_matrix(y_test, y_pred), \"\\n\")"
      ],
      "execution_count": 20,
      "outputs": [
        {
          "output_type": "stream",
          "text": [
            "accuracy 0.9596666666666667 \n",
            "\n",
            "[[206   0   0   0   0   0   0   0   0   0   0   1   0   0   0   0   0   0\n",
            "    0   0   0   0   0   0   2   0]\n",
            " [  0 211   0   2   1   0   1   0   0   0   0   0   0   0   0   0   0   1\n",
            "    2   0   0   0   0   0   0   0]\n",
            " [  0   0 220   0   3   0   4   1   0   0   0   0   0   0   2   0   0   0\n",
            "    0   0   0   0   0   0   0   0]\n",
            " [  0   3   0 236   0   1   0   1   0   1   0   0   0   2   2   0   0   1\n",
            "    1   0   0   0   0   0   0   0]\n",
            " [  0   0   1   0 225   1   4   0   0   0   0   0   0   0   0   0   0   0\n",
            "    1   0   0   0   0   0   0   2]\n",
            " [  0   0   0   1   0 217   0   0   1   1   0   0   0   1   0   3   0   0\n",
            "    0   0   0   1   0   0   0   0]\n",
            " [  0   0   2   3   1   0 209   0   0   0   0   0   1   0   1   0   0   0\n",
            "    0   0   0   1   1   0   0   0]\n",
            " [  0   1   3   5   0   0   2 195   1   1   2   1   1   0   1   0   3   1\n",
            "    0   0   0   0   0   0   0   0]\n",
            " [  0   0   0   1   0   1   0   0 203   8   0   0   0   0   0   0   1   0\n",
            "    0   0   0   0   0   1   0   0]\n",
            " [  0   0   0   0   0   0   0   0   7 209   0   0   0   1   0   0   0   1\n",
            "    0   0   2   0   0   0   0   0]\n",
            " [  0   1   0   0   2   0   0   5   0   0 228   0   0   0   0   0   0   5\n",
            "    0   0   0   0   0   4   0   0]\n",
            " [  0   0   0   0   0   0   1   1   0   0   0 232   0   0   0   1   0   1\n",
            "    0   1   0   0   0   0   0   0]\n",
            " [  0   0   0   0   0   0   0   0   0   0   0   0 230   2   0   0   0   0\n",
            "    0   0   0   0   2   0   0   0]\n",
            " [  0   3   0   1   0   0   0   0   0   0   0   0   1 244   0   0   0   1\n",
            "    0   0   0   0   1   0   0   0]\n",
            " [  0   0   2   0   0   0   2   0   0   1   0   0   2   0 210   0   1   1\n",
            "    0   0   1   0   1   0   0   0]\n",
            " [  0   0   0   0   1   8   0   1   1   0   0   0   0   0   0 252   1   0\n",
            "    0   0   0   0   0   0   1   0]\n",
            " [  0   0   0   0   3   0   1   0   0   0   0   0   0   0   2   1 226   0\n",
            "    0   0   0   0   0   0   0   2]\n",
            " [  0   8   0   1   0   0   1   3   0   0   3   0   0   3   0   0   0 224\n",
            "    0   0   0   0   0   0   0   0]\n",
            " [  0   1   0   0   1   2   1   0   0   0   0   0   0   0   0   0   0   0\n",
            "  223   0   0   0   0   0   0   0]\n",
            " [  0   0   0   1   0   0   0   1   0   0   0   0   0   0   0   1   0   0\n",
            "    0 235   0   0   0   1   0   0]\n",
            " [  2   0   0   0   0   0   1   2   0   0   0   0   0   2   0   0   0   0\n",
            "    0   0 217   0   0   0   0   0]\n",
            " [  0   4   0   0   0   0   0   0   0   0   0   0   1   0   0   1   0   0\n",
            "    0   0   0 203   1   0   1   0]\n",
            " [  0   0   0   0   0   0   1   0   0   0   0   0   0   0   0   1   0   0\n",
            "    0   0   0   0 220   0   0   0]\n",
            " [  0   1   0   3   2   0   0   0   0   0   3   1   0   0   0   0   0   1\n",
            "    0   0   0   0   0 232   1   0]\n",
            " [  1   0   0   0   0   0   0   0   0   1   0   0   0   0   0   0   0   0\n",
            "    1   0   1   2   1   0 230   0]\n",
            " [  0   0   0   0   2   1   0   0   0   0   0   0   0   0   0   0   3   0\n",
            "    1   1   0   0   0   0   0 221]] \n",
            "\n"
          ],
          "name": "stdout"
        }
      ]
    },
    {
      "cell_type": "markdown",
      "metadata": {
        "id": "hoiYrK_XFtGY"
      },
      "source": [
        "**Conclusion**\n",
        "\n",
        "The accuracy achieved using a non-linear kernel (**0.95**) is mush higher than that of a linear one (**0.85**). We can conclude that the problem is highly non-linear in nature.\n"
      ]
    }
  ]
}